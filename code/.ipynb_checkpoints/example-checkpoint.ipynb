{
 "cells": [
  {
   "cell_type": "code",
   "execution_count": 76,
   "metadata": {
    "collapsed": true
   },
   "outputs": [],
   "source": [
    "import matplotlib.pyplot as plt\n",
    "import matplotlib.image as pltImg\n",
    "import pandas as pd\n",
    "import numpy as np\n",
    "import cv2\n",
    "%matplotlib inline\n",
    "# %matplotlib notebook"
   ]
  },
  {
   "cell_type": "code",
   "execution_count": 77,
   "metadata": {},
   "outputs": [],
   "source": [
    "path_csvFile = '../test_dataset/robot_log.csv'\n",
    "data = pd.read_csv(path_csvFile)\n",
    "images = np.array([pltImg.imread(img) for img in data['Path']])\n",
    "yaws = data['Yaw']\n",
    "X_Position = data['X_Position']\n",
    "Y_Position = data['Y_Position']"
   ]
  },
  {
   "cell_type": "code",
   "execution_count": 78,
   "metadata": {
    "collapsed": true
   },
   "outputs": [],
   "source": [
    "def color_threshold(image, threshold = (180, 180, 180)):\n",
    "    output = np.zeros_like(image[:,:,0])\n",
    "    above_threshold = ((image[:,:,0] > threshold[0]) &\n",
    "                      (image[:,:,1] > threshold[1]) &\n",
    "                      (image[:,:,2] > threshold[2]))\n",
    "    output[above_threshold] = 1\n",
    "    return output\n",
    "\n",
    "def warpedImg(image, src = None, dst = None):\n",
    "    dst_size = 5\n",
    "    bottom_offset = 6\n",
    "    image = images[0]\n",
    "    source = np.float32([[14, 140], [301 ,140],[200, 96], [118, 96]])\n",
    "    destination = np.float32([[image.shape[1]/2 - dst_size, image.shape[0] - bottom_offset],\n",
    "                      [image.shape[1]/2 + dst_size, image.shape[0] - bottom_offset],\n",
    "                      [image.shape[1]/2 + dst_size, image.shape[0] - 2*dst_size - bottom_offset], \n",
    "                      [image.shape[1]/2 - dst_size, image.shape[0] - 2*dst_size - bottom_offset],\n",
    "                      ])\n",
    "    M = cv2.getPerspectiveTransform(source, destination)\n",
    "    warped = cv2.warpPerspective(image, M, (image.shape[1], image.shape[0]))\n",
    "    \n",
    "    return warped\n",
    "\n",
    "# Define a function to map rover space pixels to world space\n",
    "def rotate_pix(xpix, ypix, yaw):\n",
    "    # Convert yaw to radians\n",
    "    yaw_rad = yaw * np.pi / 180\n",
    "    xpix_rotated = (xpix * np.cos(yaw_rad)) - (ypix * np.sin(yaw_rad))\n",
    "                            \n",
    "    ypix_rotated = (xpix * np.sin(yaw_rad)) + (ypix * np.cos(yaw_rad))\n",
    "    # Return the result  \n",
    "    return xpix_rotated, ypix_rotated\n",
    "\n",
    "def translate_pix(xpix_rot, ypix_rot, xpos, ypos, scale): \n",
    "    # Apply a scaling and a translation\n",
    "    xpix_translated = (xpix_rot / scale) + xpos\n",
    "    ypix_translated = (ypix_rot / scale) + ypos\n",
    "    # Return the result  \n",
    "    return xpix_translated, ypix_translated\n",
    "\n",
    "def rover_coords(binary_img):\n",
    "    # Identify nonzero pixels\n",
    "    ypos, xpos = binary_img.nonzero()\n",
    "    # Calculate pixel positions with reference to the rover position being at the \n",
    "    # center bottom of the image.  \n",
    "    x_pixel = -(ypos - binary_img.shape[0]).astype(np.float)\n",
    "    y_pixel = -(xpos - binary_img.shape[1]/2 ).astype(np.float)\n",
    "    return x_pixel, y_pixel"
   ]
  },
  {
   "cell_type": "code",
   "execution_count": 79,
   "metadata": {
    "collapsed": true,
    "scrolled": false
   },
   "outputs": [],
   "source": [
    "def MAP(num_frame):\n",
    "    test_img = images[num_frame]\n",
    "    thre_1 = warpedImg(test_img)\n",
    "    thre_1 = color_threshold(thre_1)\n",
    "    \n",
    "    raw_ypos, raw_xpos = thre_1.nonzero()\n",
    "\n",
    "    xpix, ypix = rover_coords(thre_1)\n",
    "    yaw = yaws[num_frame]\n",
    "    xpos = X_Position[num_frame]\n",
    "    ypos = Y_Position[num_frame]\n",
    "\n",
    "    x_rotated, y_rotated = rotate_pix(xpix, ypix, yaw)\n",
    "    \n",
    "    # Assume a scale factor of 10 between world space pixels and rover space pixels\n",
    "    scale = 10\n",
    "    # Perform translation and convert to integer since pixel values can't be float\n",
    "    x_world = np.int_(xpos + (x_rotated / scale))\n",
    "    y_world = np.int_(ypos + (y_rotated / scale))\n",
    "    \n",
    "    return x_world, y_world"
   ]
  },
  {
   "cell_type": "code",
   "execution_count": 85,
   "metadata": {},
   "outputs": [
    {
     "data": {
      "text/plain": [
       "<matplotlib.image.AxesImage at 0x1730113e908>"
      ]
     },
     "execution_count": 85,
     "metadata": {},
     "output_type": "execute_result"
    },
    {
     "data": {
      "image/png": "[encoded data removed]",
      "text/plain": [
       "<matplotlib.figure.Figure at 0x17379b6a7f0>"
      ]
     },
     "metadata": {},
     "output_type": "display_data"
    }
   ],
   "source": [
    "pathImg = pltImg.imread('../calibration_images/map_bw.jpg')\n",
    "\n",
    "for i in range(len(images)):\n",
    "    x_rotated, y_rotated = MAP(i)\n",
    "    pathImg[y_rotated,x_rotated] += np.uint8([2, 0, 0])\n",
    "plt.imshow(pathImg)"
   ]
  },
  {
   "cell_type": "code",
   "execution_count": null,
   "metadata": {
    "collapsed": true
   },
   "outputs": [],
   "source": []
  }
 ],
 "metadata": {
  "kernelspec": {
   "display_name": "Python 3",
   "language": "python",
   "name": "python3"
  },
  "language_info": {
   "codemirror_mode": {
    "name": "ipython",
    "version": 3
   },
   "file_extension": ".py",
   "mimetype": "text/x-python",
   "name": "python",
   "nbconvert_exporter": "python",
   "pygments_lexer": "ipython3",
   "version": "3.5.3"
  }
 },
 "nbformat": 4,
 "nbformat_minor": 2
}
