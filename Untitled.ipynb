{
 "cells": [
  {
   "cell_type": "code",
   "execution_count": 2,
   "metadata": {},
   "outputs": [],
   "source": [
    "import matplotlib.image as mpImg\n",
    "import numpy as np\n",
    "import cv2\n",
    "import matplotlib.pyplot as plt\n",
    "%matplotlib inline"
   ]
  },
  {
   "cell_type": "code",
   "execution_count": 26,
   "metadata": {},
   "outputs": [
    {
     "data": {
      "text/plain": [
       "<matplotlib.image.AxesImage at 0x17ca9087048>"
      ]
     },
     "execution_count": 26,
     "metadata": {},
     "output_type": "execute_result"
    },
    {
     "data": {
      "image/png": "[encoded data removed]",
      "text/plain": [
       "<matplotlib.figure.Figure at 0x17ca927c9b0>"
      ]
     },
     "metadata": {},
     "output_type": "display_data"
    }
   ],
   "source": [
    "img = mpImg.imread('angle_test.jpg')\n",
    "_, thre = cv2.threshold(img, 150, 255, cv2.THRESH_BINARY_INV)\n",
    "nonZeros = thre.nonzero()\n",
    "nonZeros_x = nonZeros[1]\n",
    "nonZeros_y = np.abs(nonZeros[0] - np.max(nonZeros_y))\n",
    "plt.imshow(thre)"
   ]
  },
  {
   "cell_type": "code",
   "execution_count": 41,
   "metadata": {
    "collapsed": true
   },
   "outputs": [],
   "source": [
    "def to_polar_coords(xpix, ypix):\n",
    "    # Calculate distance to each pixel\n",
    "    dist = np.sqrt(xpix**2 + ypix**2)\n",
    "    # Calculate angle using arctangent function\n",
    "    angles = np.arctan2(ypix, xpix)\n",
    "    return dist, angles"
   ]
  },
  {
   "cell_type": "code",
   "execution_count": 55,
   "metadata": {},
   "outputs": [],
   "source": [
    "_, angles = to_polar_coords(nonZeros_x, nonZeros_y)\n",
    "avg_angle = np.mean(angles)\n",
    "avg_angle_degrees = avg_angle * 180/np.pi\n",
    "steering = np.clip(avg_angle_degrees, -15, 15)\n",
    "\n",
    "min_x = np.min(nonZeros_x)\n",
    "max_x = np.max(nonZeros_x)\n",
    "\n",
    "fit_x = np.linspace(min_x, max_x - 1, max_x)\n",
    "fit_y = fit_x*(1 + avg_angle_degrees / 100)"
   ]
  },
  {
   "cell_type": "code",
   "execution_count": 56,
   "metadata": {},
   "outputs": [
    {
     "data": {
      "text/plain": [
       "29.847029676030104"
      ]
     },
     "execution_count": 56,
     "metadata": {},
     "output_type": "execute_result"
    }
   ],
   "source": [
    "avg_angle_degrees"
   ]
  },
  {
   "cell_type": "code",
   "execution_count": 57,
   "metadata": {},
   "outputs": [
    {
     "data": {
      "image/png": "[encoded data removed]",
      "text/plain": [
       "<matplotlib.figure.Figure at 0x17ca8c55cc0>"
      ]
     },
     "metadata": {},
     "output_type": "display_data"
    }
   ],
   "source": [
    "plt.plot(fit_x, fit_y, color='blue')\n",
    "plt.xlim(0, 450)\n",
    "plt.ylim(0, 300)\n",
    "plt.show()"
   ]
  },
  {
   "cell_type": "code",
   "execution_count": 48,
   "metadata": {},
   "outputs": [
    {
     "data": {
      "text/plain": [
       "29.847029676030104"
      ]
     },
     "execution_count": 48,
     "metadata": {},
     "output_type": "execute_result"
    }
   ],
   "source": [
    "avg_angle_degrees"
   ]
  },
  {
   "cell_type": "code",
   "execution_count": 40,
   "metadata": {},
   "outputs": [
    {
     "data": {
      "image/png": "[encoded data removed]",
      "text/plain": [
       "<matplotlib.figure.Figure at 0x17cabf155c0>"
      ]
     },
     "metadata": {},
     "output_type": "display_data"
    }
   ],
   "source": [
    "coef_poly = np.polyfit(nonZeros_x, nonZeros_y, 1)\n",
    "\n",
    "min_x = np.min(nonZeros_x)\n",
    "max_x = np.max(nonZeros_x)\n",
    "\n",
    "fit_x = np.linspace(min_x, max_x - 1, max_x)\n",
    "fit_y = coef_poly[0]*fit_x + coef_poly[1]\n",
    "\n",
    "plt.scatter(nonZeros_x, nonZeros_y, color='black')\n",
    "plt.plot(fit_x, fit_y, color='blue')\n",
    "plt.xlim(0, 450)\n",
    "plt.ylim(0, 300)\n",
    "plt.show()"
   ]
  },
  {
   "cell_type": "code",
   "execution_count": 36,
   "metadata": {},
   "outputs": [
    {
     "data": {
      "text/plain": [
       "array([ 192.        ,  192.52119701,  193.04239401,  193.56359102,\n",
       "        194.08478803,  194.60598504,  195.12718204,  195.64837905,\n",
       "        196.16957606,  196.69077307,  197.21197007,  197.73316708,\n",
       "        198.25436409,  198.7755611 ,  199.2967581 ,  199.81795511,\n",
       "        200.33915212,  200.86034913,  201.38154613,  201.90274314,\n",
       "        202.42394015,  202.94513716,  203.46633416,  203.98753117,\n",
       "        204.50872818,  205.02992519,  205.55112219,  206.0723192 ,\n",
       "        206.59351621,  207.11471322,  207.63591022,  208.15710723,\n",
       "        208.67830424,  209.19950125,  209.72069825,  210.24189526,\n",
       "        210.76309227,  211.28428928,  211.80548628,  212.32668329,\n",
       "        212.8478803 ,  213.36907731,  213.89027431,  214.41147132,\n",
       "        214.93266833,  215.45386534,  215.97506234,  216.49625935,\n",
       "        217.01745636,  217.53865337,  218.05985037,  218.58104738,\n",
       "        219.10224439,  219.6234414 ,  220.1446384 ,  220.66583541,\n",
       "        221.18703242,  221.70822943,  222.22942643,  222.75062344,\n",
       "        223.27182045,  223.79301746,  224.31421446,  224.83541147,\n",
       "        225.35660848,  225.87780549,  226.39900249,  226.9201995 ,\n",
       "        227.44139651,  227.96259352,  228.48379052,  229.00498753,\n",
       "        229.52618454,  230.04738155,  230.56857855,  231.08977556,\n",
       "        231.61097257,  232.13216958,  232.65336658,  233.17456359,\n",
       "        233.6957606 ,  234.21695761,  234.73815461,  235.25935162,\n",
       "        235.78054863,  236.30174564,  236.82294264,  237.34413965,\n",
       "        237.86533666,  238.38653367,  238.90773067,  239.42892768,\n",
       "        239.95012469,  240.4713217 ,  240.9925187 ,  241.51371571,\n",
       "        242.03491272,  242.55610973,  243.07730673,  243.59850374,\n",
       "        244.11970075,  244.64089776,  245.16209476,  245.68329177,\n",
       "        246.20448878,  246.72568579,  247.24688279,  247.7680798 ,\n",
       "        248.28927681,  248.81047382,  249.33167082,  249.85286783,\n",
       "        250.37406484,  250.89526185,  251.41645885,  251.93765586,\n",
       "        252.45885287,  252.98004988,  253.50124688,  254.02244389,\n",
       "        254.5436409 ,  255.06483791,  255.58603491,  256.10723192,\n",
       "        256.62842893,  257.14962594,  257.67082294,  258.19201995,\n",
       "        258.71321696,  259.23441397,  259.75561097,  260.27680798,\n",
       "        260.79800499,  261.319202  ,  261.840399  ,  262.36159601,\n",
       "        262.88279302,  263.40399002,  263.92518703,  264.44638404,\n",
       "        264.96758105,  265.48877805,  266.00997506,  266.53117207,\n",
       "        267.05236908,  267.57356608,  268.09476309,  268.6159601 ,\n",
       "        269.13715711,  269.65835411,  270.17955112,  270.70074813,\n",
       "        271.22194514,  271.74314214,  272.26433915,  272.78553616,\n",
       "        273.30673317,  273.82793017,  274.34912718,  274.87032419,\n",
       "        275.3915212 ,  275.9127182 ,  276.43391521,  276.95511222,\n",
       "        277.47630923,  277.99750623,  278.51870324,  279.03990025,\n",
       "        279.56109726,  280.08229426,  280.60349127,  281.12468828,\n",
       "        281.64588529,  282.16708229,  282.6882793 ,  283.20947631,\n",
       "        283.73067332,  284.25187032,  284.77306733,  285.29426434,\n",
       "        285.81546135,  286.33665835,  286.85785536,  287.37905237,\n",
       "        287.90024938,  288.42144638,  288.94264339,  289.4638404 ,\n",
       "        289.98503741,  290.50623441,  291.02743142,  291.54862843,\n",
       "        292.06982544,  292.59102244,  293.11221945,  293.63341646,\n",
       "        294.15461347,  294.67581047,  295.19700748,  295.71820449,\n",
       "        296.2394015 ,  296.7605985 ,  297.28179551,  297.80299252,\n",
       "        298.32418953,  298.84538653,  299.36658354,  299.88778055,\n",
       "        300.40897756,  300.93017456,  301.45137157,  301.97256858,\n",
       "        302.49376559,  303.01496259,  303.5361596 ,  304.05735661,\n",
       "        304.57855362,  305.09975062,  305.62094763,  306.14214464,\n",
       "        306.66334165,  307.18453865,  307.70573566,  308.22693267,\n",
       "        308.74812968,  309.26932668,  309.79052369,  310.3117207 ,\n",
       "        310.83291771,  311.35411471,  311.87531172,  312.39650873,\n",
       "        312.91770574,  313.43890274,  313.96009975,  314.48129676,\n",
       "        315.00249377,  315.52369077,  316.04488778,  316.56608479,\n",
       "        317.0872818 ,  317.6084788 ,  318.12967581,  318.65087282,\n",
       "        319.17206983,  319.69326683,  320.21446384,  320.73566085,\n",
       "        321.25685786,  321.77805486,  322.29925187,  322.82044888,\n",
       "        323.34164589,  323.86284289,  324.3840399 ,  324.90523691,\n",
       "        325.42643392,  325.94763092,  326.46882793,  326.99002494,\n",
       "        327.51122195,  328.03241895,  328.55361596,  329.07481297,\n",
       "        329.59600998,  330.11720698,  330.63840399,  331.159601  ,\n",
       "        331.680798  ,  332.20199501,  332.72319202,  333.24438903,\n",
       "        333.76558603,  334.28678304,  334.80798005,  335.32917706,\n",
       "        335.85037406,  336.37157107,  336.89276808,  337.41396509,\n",
       "        337.93516209,  338.4563591 ,  338.97755611,  339.49875312,\n",
       "        340.01995012,  340.54114713,  341.06234414,  341.58354115,\n",
       "        342.10473815,  342.62593516,  343.14713217,  343.66832918,\n",
       "        344.18952618,  344.71072319,  345.2319202 ,  345.75311721,\n",
       "        346.27431421,  346.79551122,  347.31670823,  347.83790524,\n",
       "        348.35910224,  348.88029925,  349.40149626,  349.92269327,\n",
       "        350.44389027,  350.96508728,  351.48628429,  352.0074813 ,\n",
       "        352.5286783 ,  353.04987531,  353.57107232,  354.09226933,\n",
       "        354.61346633,  355.13466334,  355.65586035,  356.17705736,\n",
       "        356.69825436,  357.21945137,  357.74064838,  358.26184539,\n",
       "        358.78304239,  359.3042394 ,  359.82543641,  360.34663342,\n",
       "        360.86783042,  361.38902743,  361.91022444,  362.43142145,\n",
       "        362.95261845,  363.47381546,  363.99501247,  364.51620948,\n",
       "        365.03740648,  365.55860349,  366.0798005 ,  366.60099751,\n",
       "        367.12219451,  367.64339152,  368.16458853,  368.68578554,\n",
       "        369.20698254,  369.72817955,  370.24937656,  370.77057357,\n",
       "        371.29177057,  371.81296758,  372.33416459,  372.8553616 ,\n",
       "        373.3765586 ,  373.89775561,  374.41895262,  374.94014963,\n",
       "        375.46134663,  375.98254364,  376.50374065,  377.02493766,\n",
       "        377.54613466,  378.06733167,  378.58852868,  379.10972569,\n",
       "        379.63092269,  380.1521197 ,  380.67331671,  381.19451372,\n",
       "        381.71571072,  382.23690773,  382.75810474,  383.27930175,\n",
       "        383.80049875,  384.32169576,  384.84289277,  385.36408978,\n",
       "        385.88528678,  386.40648379,  386.9276808 ,  387.44887781,\n",
       "        387.97007481,  388.49127182,  389.01246883,  389.53366584,\n",
       "        390.05486284,  390.57605985,  391.09725686,  391.61845387,\n",
       "        392.13965087,  392.66084788,  393.18204489,  393.7032419 ,\n",
       "        394.2244389 ,  394.74563591,  395.26683292,  395.78802993,\n",
       "        396.30922693,  396.83042394,  397.35162095,  397.87281796,\n",
       "        398.39401496,  398.91521197,  399.43640898,  399.95760599,\n",
       "        400.47880299,  401.        ])"
      ]
     },
     "execution_count": 36,
     "metadata": {},
     "output_type": "execute_result"
    }
   ],
   "source": [
    "fit_x"
   ]
  },
  {
   "cell_type": "code",
   "execution_count": 12,
   "metadata": {},
   "outputs": [
    {
     "data": {
      "text/plain": [
       "array([  0,   0,   0, ..., 287, 287, 287], dtype=int64)"
      ]
     },
     "execution_count": 12,
     "metadata": {},
     "output_type": "execute_result"
    }
   ],
   "source": [
    "nonZeros_y"
   ]
  },
  {
   "cell_type": "code",
   "execution_count": null,
   "metadata": {
    "collapsed": true
   },
   "outputs": [],
   "source": []
  }
 ],
 "metadata": {
  "kernelspec": {
   "display_name": "Python 3",
   "language": "python",
   "name": "python3"
  },
  "language_info": {
   "codemirror_mode": {
    "name": "ipython",
    "version": 3
   },
   "file_extension": ".py",
   "mimetype": "text/x-python",
   "name": "python",
   "nbconvert_exporter": "python",
   "pygments_lexer": "ipython3",
   "version": "3.5.3"
  }
 },
 "nbformat": 4,
 "nbformat_minor": 2
}
